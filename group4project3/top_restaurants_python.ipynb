{
 "cells": [
  {
   "cell_type": "code",
   "execution_count": 1,
   "metadata": {},
   "outputs": [
    {
     "data": {
      "text/html": [
       "<div>\n",
       "<style scoped>\n",
       "    .dataframe tbody tr th:only-of-type {\n",
       "        vertical-align: middle;\n",
       "    }\n",
       "\n",
       "    .dataframe tbody tr th {\n",
       "        vertical-align: top;\n",
       "    }\n",
       "\n",
       "    .dataframe thead th {\n",
       "        text-align: right;\n",
       "    }\n",
       "</style>\n",
       "<table border=\"1\" class=\"dataframe\">\n",
       "  <thead>\n",
       "    <tr style=\"text-align: right;\">\n",
       "      <th></th>\n",
       "      <th>name</th>\n",
       "      <th>latitude</th>\n",
       "      <th>longitude</th>\n",
       "      <th>categories</th>\n",
       "    </tr>\n",
       "  </thead>\n",
       "  <tbody>\n",
       "    <tr>\n",
       "      <th>0</th>\n",
       "      <td>Abugida Ethiopian Cafe &amp; Resturant</td>\n",
       "      <td>35.217977</td>\n",
       "      <td>-80.793942</td>\n",
       "      <td>Restaurants;Ethiopian</td>\n",
       "    </tr>\n",
       "    <tr>\n",
       "      <th>1</th>\n",
       "      <td>Ari's Pizza</td>\n",
       "      <td>35.249514</td>\n",
       "      <td>-80.779849</td>\n",
       "      <td>Restaurants;Pizza</td>\n",
       "    </tr>\n",
       "    <tr>\n",
       "      <th>2</th>\n",
       "      <td>Balu's Biryani</td>\n",
       "      <td>35.227087</td>\n",
       "      <td>-80.843127</td>\n",
       "      <td>Restaurants;Indian;Caterers;Event Planning &amp; S...</td>\n",
       "    </tr>\n",
       "    <tr>\n",
       "      <th>3</th>\n",
       "      <td>Big City Grill</td>\n",
       "      <td>35.249536</td>\n",
       "      <td>-80.778819</td>\n",
       "      <td>Burgers;American (Traditional);Hot Dogs;Greek;...</td>\n",
       "    </tr>\n",
       "    <tr>\n",
       "      <th>4</th>\n",
       "      <td>Chili Man</td>\n",
       "      <td>35.226911</td>\n",
       "      <td>-80.843823</td>\n",
       "      <td>Food;Street Vendors;Restaurants;Hot Dogs</td>\n",
       "    </tr>\n",
       "  </tbody>\n",
       "</table>\n",
       "</div>"
      ],
      "text/plain": [
       "                                 name   latitude  longitude  \\\n",
       "0  Abugida Ethiopian Cafe & Resturant  35.217977 -80.793942   \n",
       "1                         Ari's Pizza  35.249514 -80.779849   \n",
       "2                      Balu's Biryani  35.227087 -80.843127   \n",
       "3                      Big City Grill  35.249536 -80.778819   \n",
       "4                           Chili Man  35.226911 -80.843823   \n",
       "\n",
       "                                          categories  \n",
       "0                              Restaurants;Ethiopian  \n",
       "1                                  Restaurants;Pizza  \n",
       "2  Restaurants;Indian;Caterers;Event Planning & S...  \n",
       "3  Burgers;American (Traditional);Hot Dogs;Greek;...  \n",
       "4           Food;Street Vendors;Restaurants;Hot Dogs  "
      ]
     },
     "execution_count": 1,
     "metadata": {},
     "output_type": "execute_result"
    }
   ],
   "source": [
    "import pandas as pd\n",
    "\n",
    "clt_eats = \"../group4project3/top_rated_restaurants.csv\"\n",
    "clteats_df = pd.read_csv(clt_eats)\n",
    "clteats_df.head()"
   ]
  },
  {
   "cell_type": "code",
   "execution_count": 2,
   "metadata": {},
   "outputs": [],
   "source": [
    "clteats_df.to_html('top_restaurants_df')"
   ]
  }
 ],
 "metadata": {
  "kernelspec": {
   "display_name": "Python 3",
   "language": "python",
   "name": "python3"
  },
  "language_info": {
   "codemirror_mode": {
    "name": "ipython",
    "version": 3
   },
   "file_extension": ".py",
   "mimetype": "text/x-python",
   "name": "python",
   "nbconvert_exporter": "python",
   "pygments_lexer": "ipython3",
   "version": "3.7.3"
  }
 },
 "nbformat": 4,
 "nbformat_minor": 2
}
